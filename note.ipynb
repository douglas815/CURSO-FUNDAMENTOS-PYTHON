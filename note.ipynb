{
  "cells": [
    {
      "cell_type": "markdown",
      "metadata": {
        "id": "y8AG8ynAQRds"
      },
      "source": [
        "tarea 1"
      ]
    },
    {
      "cell_type": "code",
      "execution_count": 5,
      "metadata": {
        "colab": {
          "base_uri": "https://localhost:8080/"
        },
        "id": "sEcT4jtjQSQ7",
        "outputId": "7e54f3b2-bd5b-4456-e579-7cc0ed432695"
      },
      "outputs": [
        {
          "name": "stdout",
          "output_type": "stream",
          "text": [
            "ingreses la cantidad de frutos recolectados50\n",
            "ingreses la cantidad de frutos producidos500\n",
            "el indice de cultivo es: 10.0%\n"
          ]
        }
      ],
      "source": [
        "cantidad_de_frutos = int(input(\"ingreses la cantidad de frutos recolectados\"))\n",
        "cantidad_de_frutos_producidos = int(input(\"ingreses la cantidad de frutos producidos\"))\n",
        "indice_de_cosecha = cantidad_de_frutos/cantidad_de_frutos_producidos*100\n",
        "print((\"el indice de cultivo es: \") + str(indice_de_cosecha)+\"%\")"
      ]
    },
    {
      "cell_type": "markdown",
      "metadata": {
        "id": "Ba12rY9GUBy0"
      },
      "source": [
        "tarea 2\n"
      ]
    },
    {
      "cell_type": "code",
      "execution_count": null,
      "metadata": {
        "colab": {
          "base_uri": "https://localhost:8080/"
        },
        "id": "QbPJcKhEQtbs",
        "outputId": "c58dea51-e391-41ed-9eac-1340437c5b7b"
      },
      "outputs": [
        {
          "name": "stdout",
          "output_type": "stream",
          "text": [
            "------------\n",
            "|          |\n",
            "|          |\n",
            "|          |\n",
            "|          |\n",
            "|          |\n",
            "+----------+\n",
            "|          |\n",
            "|          |\n",
            "|          |\n",
            "|          |\n",
            "|          |\n",
            "\n"
          ]
        }
      ],
      "source": [
        "print(\"-\" + 10 * \"-\" + \"-\")\n",
        "print((\"|\" + \" \" * 10 + \"|\\n\") * 5, end = \"\")\n",
        "print(\"+\" + 10 * \"-\" + \"+\")\n",
        "print(\"|\" + \" \" * 10 * 5)"
      ]
    },
    {
      "cell_type": "markdown",
      "metadata": {
        "id": "gAXW5actePki"
      },
      "source": [
        "tarea punto 3"
      ]
    },
    {
      "cell_type": "code",
      "execution_count": 47,
      "metadata": {
        "colab": {
          "base_uri": "https://localhost:8080/"
        },
        "id": "KfznEeVPYl_B",
        "outputId": "73a345d4-bec4-41a5-827a-788db77d377a"
      },
      "outputs": [
        {
          "name": "stdout",
          "output_type": "stream",
          "text": [
            "ingrese el numero de parciales:3\n",
            "ingrese las calificaciones de los parciales 1: 80\n",
            "ingrese las calificaciones de los parciales 2: 60\n",
            "ingrese las calificaciones de los parciales 3: 90\n",
            "ingrese la calificacion del examen final: 80\n",
            "ingrese la calificacion del trabajo final: 60\n",
            "la calificaion total en matematicas es de 75.17\n"
          ]
        }
      ],
      "source": [
        "numero_de_parcailes = int(input(\"ingrese el numero de parciales:\"))\n",
        "promedio_parciales = sum(float(input(f\"ingrese las calificaciones de los parciales {i+1}: \" )) for i in range(numero_de_parcailes)) / numero_de_parcailes\n",
        "examen_final = float(input(\"ingrese la calificacion del examen final: \"))\n",
        "trabajo_final = float(input(\"ingrese la calificacion del trabajo final: \"))\n",
        "calificacion_final = (promedio_parciales * 0.55) + (examen_final * 0.30) + (trabajo_final * 0.15)\n",
        "print(\"la calificaion total en matematicas es de {:.2f}\".format(calificacion_final) )"
      ]
    },
    {
      "cell_type": "markdown",
      "metadata": {
        "id": "gacwiUI4fU0y"
      },
      "source": [
        "tarea 4"
      ]
    },
    {
      "cell_type": "code",
      "execution_count": null,
      "metadata": {
        "colab": {
          "base_uri": "https://localhost:8080/"
        },
        "id": "PiqmvMJbcxHZ",
        "outputId": "544a04e7-e722-44eb-83a5-8cf2a6c02cf6"
      },
      "outputs": [
        {
          "name": "stdout",
          "output_type": "stream",
          "text": [
            "Ingresa una frase: hola me gusta el pito\n",
            "La frase tiene 5 palabras.\n"
          ]
        }
      ],
      "source": [
        "def contar_palabras(frase):\n",
        "  palabras = frase.split()\n",
        "  numero_palabras = len(palabras)\n",
        "  return numero_palabras\n",
        "\n",
        "frase_usuario = input(\"Ingresa una frase: \")\n",
        "numero_palabras = contar_palabras(frase_usuario)\n",
        "print(f\"La frase tiene {numero_palabras} palabras.\")"
      ]
    },
    {
      "cell_type": "markdown",
      "metadata": {
        "id": "anYvsaPlfWnh"
      },
      "source": [
        "tarea 5\n"
      ]
    },
    {
      "cell_type": "code",
      "execution_count": null,
      "metadata": {
        "colab": {
          "base_uri": "https://localhost:8080/"
        },
        "id": "fOGEEDhyfYAJ",
        "outputId": "7a1acd1b-231e-4efe-d9b7-5199c4e87f56"
      },
      "outputs": [
        {
          "name": "stdout",
          "output_type": "stream",
          "text": [
            "Ingresa una frase: hola soy douglas\n",
            "La frase transformada es: SALGUOD YOS ALOH\n"
          ]
        }
      ],
      "source": [
        "def transformar_frase(frase)\n",
        "  frase_mayusculas = frase.upper()\n",
        "  frase_invertida = frase_mayusculas[::-1]\n",
        "  return frase_invertida\n",
        "\n",
        "frase_usuario = input(\"Ingresa una frase: \")\n",
        "frase_transformada = transformar_frase(frase_usuario)\n",
        "print(f\"La frase transformada es: {frase_transformada}\")\n",
        "\n"
      ]
    }
  ],
  "metadata": {
    "colab": {
      "provenance": []
    },
    "kernelspec": {
      "display_name": "Python 3",
      "name": "python3"
    },
    "language_info": {
      "name": "python"
    }
  },
  "nbformat": 4,
  "nbformat_minor": 0
}
